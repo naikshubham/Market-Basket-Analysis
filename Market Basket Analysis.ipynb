{
 "cells": [
  {
   "cell_type": "markdown",
   "metadata": {},
   "source": [
    "### Cross-selling products\n",
    "- The small grocery store has decided to cross-sell chewing gum with either coffee, cereal, or bread. To determine which of the three items is best to use, the store owner has performed an experiment. For one week, she sold chewing gum next to the register and recorded all transactions where it was purchased with either coffee, cereal, or bread. The transactions from that day are available as a list of lists named transactions. Each transaction is either ['coffee','gum'], ['cereal','gum'], or ['bread','gum']"
   ]
  },
  {
   "cell_type": "code",
   "execution_count": 1,
   "metadata": {},
   "outputs": [],
   "source": [
    "import pandas as pd"
   ]
  },
  {
   "cell_type": "code",
   "execution_count": 5,
   "metadata": {},
   "outputs": [],
   "source": [
    "transactions = [['bread', 'gum'],['bread', 'gum'],['cereal', 'gum'],['coffee', 'gum'],['bread', 'gum'],['coffee', 'gum'],['coffee', 'gum'],['coffee', 'gum'],\n",
    " ['cereal', 'gum'],\n",
    " ['coffee', 'gum'],\n",
    " ['coffee', 'gum'],\n",
    " ['cereal', 'gum'],\n",
    " ['coffee', 'gum'],\n",
    " ['cereal', 'gum'],\n",
    " ['coffee', 'gum'],\n",
    " ['coffee', 'gum'],\n",
    " ['cereal', 'gum'],\n",
    " ['coffee', 'gum'],\n",
    " ['bread', 'gum'],\n",
    " ['cereal', 'gum'],\n",
    " ['bread', 'gum'],\n",
    " ['bread', 'gum'],\n",
    " ['coffee', 'gum'],\n",
    " ['coffee', 'gum'],\n",
    " ['bread', 'gum'],\n",
    " ['bread', 'gum'],\n",
    " ['coffee', 'gum'],\n",
    " ['coffee', 'gum'],\n",
    " ['cereal', 'gum'],\n",
    " ['cereal', 'gum'],\n",
    " ['coffee', 'gum'],\n",
    " ['coffee', 'gum'],\n",
    " ['coffee', 'gum'],\n",
    " ['cereal', 'gum'],\n",
    " ['bread', 'gum'],\n",
    " ['coffee', 'gum'],\n",
    " ['bread', 'gum'],\n",
    " ['coffee', 'gum'],\n",
    " ['cereal', 'gum'],\n",
    " ['bread', 'gum'],\n",
    " ['cereal', 'gum'],\n",
    " ['cereal', 'gum'],\n",
    " ['coffee', 'gum'],\n",
    " ['coffee', 'gum'],\n",
    " ['cereal', 'gum'],\n",
    " ['coffee', 'gum'],\n",
    " ['cereal', 'gum'],\n",
    " ['coffee', 'gum'],\n",
    " ['coffee', 'gum'],\n",
    " ['bread', 'gum'],\n",
    " ['cereal', 'gum'],\n",
    " ['bread', 'gum'],\n",
    " ['coffee', 'gum'],\n",
    " ['cereal', 'gum'],\n",
    " ['coffee', 'gum'],\n",
    " ['cereal', 'gum'],\n",
    " ['cereal', 'gum'],\n",
    " ['bread', 'gum'],\n",
    " ['bread', 'gum'],\n",
    " ['coffee', 'gum'],\n",
    " ['coffee', 'gum'],\n",
    " ['coffee', 'gum'],\n",
    " ['bread', 'gum'],\n",
    " ['cereal', 'gum'],\n",
    " ['cereal', 'gum'],\n",
    " ['coffee', 'gum'],\n",
    " ['bread', 'gum'],\n",
    " ['coffee', 'gum'],\n",
    " ['coffee', 'gum'],\n",
    " ['cereal', 'gum'],\n",
    " ['cereal', 'gum'],\n",
    " ['coffee', 'gum'],\n",
    " ['bread', 'gum'],\n",
    " ['coffee', 'gum'],\n",
    " ['cereal', 'gum'],\n",
    " ['coffee', 'gum'],\n",
    " ['cereal', 'gum'],\n",
    " ['cereal', 'gum'],\n",
    " ['coffee', 'gum'],\n",
    " ['coffee', 'gum'],\n",
    " ['bread', 'gum'],\n",
    " ['coffee', 'gum'],\n",
    " ['bread', 'gum'],\n",
    " ['coffee', 'gum'],\n",
    " ['coffee', 'gum']]"
   ]
  },
  {
   "cell_type": "code",
   "execution_count": 7,
   "metadata": {},
   "outputs": [
    {
     "name": "stdout",
     "output_type": "stream",
     "text": [
      "coffee: 0\n",
      "cereal: 25\n",
      "bread: 20\n"
     ]
    }
   ],
   "source": [
    "# Count the number of transactions with coffee and gum\n",
    "coffee = transactions.count(['cofee', 'gum'])\n",
    "\n",
    "# Count the number of transactions with cereal and gum\n",
    "cereal = transactions.count(['cereal', 'gum'])\n",
    "\n",
    "# Count the number of transactions with bread and gum\n",
    "bread = transactions.count(['bread', 'gum'])\n",
    "\n",
    "# Print the counts for each transaction.\n",
    "print('coffee:', coffee)\n",
    "print('cereal:', cereal)\n",
    "print('bread:', bread)"
   ]
  },
  {
   "cell_type": "markdown",
   "metadata": {},
   "source": [
    "### Preparing data for market basket analysis\n"
   ]
  },
  {
   "cell_type": "code",
   "execution_count": 9,
   "metadata": {},
   "outputs": [
    {
     "data": {
      "text/html": [
       "<div>\n",
       "<style scoped>\n",
       "    .dataframe tbody tr th:only-of-type {\n",
       "        vertical-align: middle;\n",
       "    }\n",
       "\n",
       "    .dataframe tbody tr th {\n",
       "        vertical-align: top;\n",
       "    }\n",
       "\n",
       "    .dataframe thead th {\n",
       "        text-align: right;\n",
       "    }\n",
       "</style>\n",
       "<table border=\"1\" class=\"dataframe\">\n",
       "  <thead>\n",
       "    <tr style=\"text-align: right;\">\n",
       "      <th></th>\n",
       "      <th>Transaction</th>\n",
       "    </tr>\n",
       "  </thead>\n",
       "  <tbody>\n",
       "    <tr>\n",
       "      <th>0</th>\n",
       "      <td>milk,bread,biscuit</td>\n",
       "    </tr>\n",
       "    <tr>\n",
       "      <th>1</th>\n",
       "      <td>bread,milk,biscuit,cereal</td>\n",
       "    </tr>\n",
       "    <tr>\n",
       "      <th>2</th>\n",
       "      <td>bread,tea</td>\n",
       "    </tr>\n",
       "    <tr>\n",
       "      <th>3</th>\n",
       "      <td>jam,bread,milk</td>\n",
       "    </tr>\n",
       "    <tr>\n",
       "      <th>4</th>\n",
       "      <td>tea,biscuit</td>\n",
       "    </tr>\n",
       "  </tbody>\n",
       "</table>\n",
       "</div>"
      ],
      "text/plain": [
       "                 Transaction\n",
       "0         milk,bread,biscuit\n",
       "1  bread,milk,biscuit,cereal\n",
       "2                  bread,tea\n",
       "3             jam,bread,milk\n",
       "4                tea,biscuit"
      ]
     },
     "execution_count": 9,
     "metadata": {},
     "output_type": "execute_result"
    }
   ],
   "source": [
    "# Load transactions from pandas\n",
    "groceries = pd.read_csv('data/small_grocery_store.csv')\n",
    "groceries.head()"
   ]
  },
  {
   "cell_type": "code",
   "execution_count": 10,
   "metadata": {},
   "outputs": [
    {
     "name": "stdout",
     "output_type": "stream",
     "text": [
      "[['milk', 'bread', 'biscuit'], ['bread', 'milk', 'biscuit', 'cereal'], ['bread', 'tea'], ['jam', 'bread', 'milk'], ['tea', 'biscuit'], ['bread', 'tea'], ['tea', 'cereal'], ['bread', 'tea', 'biscuit'], ['jam', 'bread', 'tea'], ['bread', 'milk'], ['coffee', 'orange', 'biscuit', 'cereal'], ['coffee', 'orange', 'biscuit', 'cereal'], ['coffee', 'sugar'], ['bread', 'coffee', 'orange'], ['bread', 'sugar', 'biscuit'], ['coffee', 'sugar', 'cereal'], ['bread', 'sugar', 'biscuit'], ['bread', 'coffee', 'sugar'], ['bread', 'coffee', 'sugar'], ['tea', 'milk', 'coffee', 'cereal']]\n"
     ]
    }
   ],
   "source": [
    "# Split transaction strings into lists\n",
    "transactions = groceries['Transaction'].apply(lambda t: t.split(','))\n",
    "\n",
    "# Convert DataFrame column into list of strings\n",
    "transactions = list(transactions)\n",
    "\n",
    "# Print the list of transactions\n",
    "print(transactions)"
   ]
  },
  {
   "cell_type": "markdown",
   "metadata": {},
   "source": [
    "-  load and prepare data, generate association rules, and then discard the subset of rules that are not useful.\n",
    "\n",
    "### Generating association rules\n",
    "- the function permutations from the module itertools can be used to quickly generate the set of all one-antecedent, one-consequent rules. We do not, of course, know which of these rules are useful. We simply know that each is a valid way to combine two items."
   ]
  },
  {
   "cell_type": "code",
   "execution_count": 11,
   "metadata": {},
   "outputs": [
    {
     "name": "stdout",
     "output_type": "stream",
     "text": [
      "[('bread', 'sugar'), ('bread', 'orange'), ('bread', 'jam'), ('bread', 'cereal'), ('bread', 'tea'), ('bread', 'coffee'), ('bread', 'milk'), ('bread', 'biscuit'), ('sugar', 'bread'), ('sugar', 'orange'), ('sugar', 'jam'), ('sugar', 'cereal'), ('sugar', 'tea'), ('sugar', 'coffee'), ('sugar', 'milk'), ('sugar', 'biscuit'), ('orange', 'bread'), ('orange', 'sugar'), ('orange', 'jam'), ('orange', 'cereal'), ('orange', 'tea'), ('orange', 'coffee'), ('orange', 'milk'), ('orange', 'biscuit'), ('jam', 'bread'), ('jam', 'sugar'), ('jam', 'orange'), ('jam', 'cereal'), ('jam', 'tea'), ('jam', 'coffee'), ('jam', 'milk'), ('jam', 'biscuit'), ('cereal', 'bread'), ('cereal', 'sugar'), ('cereal', 'orange'), ('cereal', 'jam'), ('cereal', 'tea'), ('cereal', 'coffee'), ('cereal', 'milk'), ('cereal', 'biscuit'), ('tea', 'bread'), ('tea', 'sugar'), ('tea', 'orange'), ('tea', 'jam'), ('tea', 'cereal'), ('tea', 'coffee'), ('tea', 'milk'), ('tea', 'biscuit'), ('coffee', 'bread'), ('coffee', 'sugar'), ('coffee', 'orange'), ('coffee', 'jam'), ('coffee', 'cereal'), ('coffee', 'tea'), ('coffee', 'milk'), ('coffee', 'biscuit'), ('milk', 'bread'), ('milk', 'sugar'), ('milk', 'orange'), ('milk', 'jam'), ('milk', 'cereal'), ('milk', 'tea'), ('milk', 'coffee'), ('milk', 'biscuit'), ('biscuit', 'bread'), ('biscuit', 'sugar'), ('biscuit', 'orange'), ('biscuit', 'jam'), ('biscuit', 'cereal'), ('biscuit', 'tea'), ('biscuit', 'coffee'), ('biscuit', 'milk')]\n",
      "72\n"
     ]
    }
   ],
   "source": [
    "# Import permutations from the itertools module\n",
    "from itertools import permutations\n",
    "\n",
    "# Define the set of groceries\n",
    "flattened = [i for t in transactions for i in t]\n",
    "groceries = list(set(flattened))\n",
    "\n",
    "# Generate all possible rules\n",
    "rules = list(permutations(groceries, 2))\n",
    "\n",
    "# Print the set of rules\n",
    "print(rules)\n",
    "\n",
    "# Print the number of rules\n",
    "print(len(rules))"
   ]
  },
  {
   "cell_type": "code",
   "execution_count": null,
   "metadata": {},
   "outputs": [],
   "source": []
  }
 ],
 "metadata": {
  "kernelspec": {
   "display_name": "Python 3",
   "language": "python",
   "name": "python3"
  },
  "language_info": {
   "codemirror_mode": {
    "name": "ipython",
    "version": 3
   },
   "file_extension": ".py",
   "mimetype": "text/x-python",
   "name": "python",
   "nbconvert_exporter": "python",
   "pygments_lexer": "ipython3",
   "version": "3.7.3"
  }
 },
 "nbformat": 4,
 "nbformat_minor": 2
}
